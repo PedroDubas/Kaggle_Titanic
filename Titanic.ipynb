{
  "nbformat": 4,
  "nbformat_minor": 0,
  "metadata": {
    "colab": {
      "name": "Titanic.ipynb",
      "version": "0.3.2",
      "provenance": [],
      "include_colab_link": true
    },
    "kernelspec": {
      "name": "python3",
      "display_name": "Python 3"
    }
  },
  "cells": [
    {
      "cell_type": "markdown",
      "metadata": {
        "id": "view-in-github",
        "colab_type": "text"
      },
      "source": [
        "<a href=\"https://colab.research.google.com/github/PedroDubas/Kaggle_Titanic/blob/master/Titanic.ipynb\" target=\"_parent\"><img src=\"https://colab.research.google.com/assets/colab-badge.svg\" alt=\"Open In Colab\"/></a>"
      ]
    },
    {
      "cell_type": "code",
      "metadata": {
        "id": "a34mOQBEuQAC",
        "colab_type": "code",
        "colab": {
          "base_uri": "https://localhost:8080/",
          "height": 122
        },
        "outputId": "7cbfff52-8c16-484b-f278-f4257c3cfac5"
      },
      "source": [
        "from google.colab import drive\n",
        "drive.mount('/content/drive')"
      ],
      "execution_count": 2,
      "outputs": [
        {
          "output_type": "stream",
          "text": [
            "Go to this URL in a browser: https://accounts.google.com/o/oauth2/auth?client_id=947318989803-6bn6qk8qdgf4n4g3pfee6491hc0brc4i.apps.googleusercontent.com&redirect_uri=urn%3Aietf%3Awg%3Aoauth%3A2.0%3Aoob&scope=email%20https%3A%2F%2Fwww.googleapis.com%2Fauth%2Fdocs.test%20https%3A%2F%2Fwww.googleapis.com%2Fauth%2Fdrive%20https%3A%2F%2Fwww.googleapis.com%2Fauth%2Fdrive.photos.readonly%20https%3A%2F%2Fwww.googleapis.com%2Fauth%2Fpeopleapi.readonly&response_type=code\n",
            "\n",
            "Enter your authorization code:\n",
            "··········\n",
            "Mounted at /content/drive\n"
          ],
          "name": "stdout"
        }
      ]
    },
    {
      "cell_type": "code",
      "metadata": {
        "id": "HM90fVwZuRna",
        "colab_type": "code",
        "colab": {
          "base_uri": "https://localhost:8080/",
          "height": 51
        },
        "outputId": "5257ce37-702c-4388-942b-ceed4e63ead7"
      },
      "source": [
        "! unzip \"/content/drive/My Drive/BasesMachineLearning/titanic.zip\" -d \"/content/\""
      ],
      "execution_count": 4,
      "outputs": [
        {
          "output_type": "stream",
          "text": [
            "Archive:  /content/drive/My Drive/BasesMachineLearning/titanic.zip\n",
            "replace /content/train.csv? [y]es, [n]o, [A]ll, [N]one, [r]ename: N\n"
          ],
          "name": "stdout"
        }
      ]
    },
    {
      "cell_type": "code",
      "metadata": {
        "id": "nuxGji-PuTq3",
        "colab_type": "code",
        "colab": {
          "base_uri": "https://localhost:8080/",
          "height": 187
        },
        "outputId": "cf621b6f-8866-407c-fdff-dc7c29e9f3c8"
      },
      "source": [
        "import sys \n",
        "print(\"Python version: {}\". format(sys.version))\n",
        "\n",
        "import pandas as pd \n",
        "print(\"pandas version: {}\". format(pd.__version__))\n",
        "\n",
        "import matplotlib.pyplot as plt\n",
        "import matplotlib\n",
        "print(\"matplotlib version: {}\". format(matplotlib.__version__))\n",
        "\n",
        "import numpy as np \n",
        "print(\"NumPy version: {}\". format(np.__version__))\n",
        "\n",
        "import scipy as sp \n",
        "print(\"SciPy version: {}\". format(sp.__version__)) \n",
        "\n",
        "import IPython\n",
        "from IPython import display \n",
        "print(\"IPython version: {}\". format(IPython.__version__)) \n",
        "\n",
        "from sklearn.ensemble import RandomForestRegressor,RandomForestClassifier, AdaBoostClassifier, GradientBoostingClassifier, ExtraTreesClassifier, VotingClassifier\n",
        "from sklearn.discriminant_analysis import LinearDiscriminantAnalysis\n",
        "from sklearn.linear_model import LogisticRegression\n",
        "from sklearn.neighbors import KNeighborsClassifier\n",
        "from sklearn.tree import DecisionTreeClassifier\n",
        "from sklearn.neural_network import MLPClassifier\n",
        "from sklearn.svm import SVC,LinearSVC\n",
        "from sklearn.model_selection import GridSearchCV, cross_val_score, StratifiedKFold, learning_curve,train_test_split\n",
        "from sklearn.feature_selection import RFECV,RFE\n",
        "from sklearn.pipeline import Pipeline\n",
        "from sklearn.datasets import load_iris\n",
        "from sklearn.metrics import accuracy_score \n",
        "import sklearn \n",
        "print(\"scikit-learn version: {}\". format(sklearn.__version__))\n",
        "\n",
        "import re\n",
        "print(\"re version: {}\". format(re.__version__))\n",
        "\n",
        "import seaborn as sns\n",
        "print(\"seaborn version: {}\". format(sns.__version__))\n",
        "\n",
        "\n",
        "import random\n",
        "import time\n",
        "\n",
        "\n",
        "import warnings\n",
        "warnings.filterwarnings('ignore')"
      ],
      "execution_count": 26,
      "outputs": [
        {
          "output_type": "stream",
          "text": [
            "Python version: 3.6.8 (default, Jan 14 2019, 11:02:34) \n",
            "[GCC 8.0.1 20180414 (experimental) [trunk revision 259383]]\n",
            "pandas version: 0.24.2\n",
            "matplotlib version: 3.0.3\n",
            "NumPy version: 1.16.4\n",
            "SciPy version: 1.3.0\n",
            "IPython version: 5.5.0\n",
            "scikit-learn version: 0.21.2\n",
            "re version: 2.2.1\n",
            "seaborn version: 0.9.0\n"
          ],
          "name": "stdout"
        }
      ]
    },
    {
      "cell_type": "code",
      "metadata": {
        "id": "5VkbwOiRuXNJ",
        "colab_type": "code",
        "colab": {
          "base_uri": "https://localhost:8080/",
          "height": 68
        },
        "outputId": "810491f4-5e97-4876-c68b-e29904725d79"
      },
      "source": [
        "test = pd.read_csv(\"test.csv\")\n",
        "train = pd.read_csv(\"train.csv\")\n",
        "\n",
        "fulldata = test\n",
        "fulldata= fulldata.append(train)\n",
        "\n",
        "print(\"Teste: {} \\nTreino: {}\\nFull_data:{}\".format(test.shape,train.shape,fulldata.shape))"
      ],
      "execution_count": 11,
      "outputs": [
        {
          "output_type": "stream",
          "text": [
            "Teste: (418, 11) \n",
            "Treino: (891, 12)\n",
            "Full_data:(1309, 12)\n"
          ],
          "name": "stdout"
        }
      ]
    },
    {
      "cell_type": "code",
      "metadata": {
        "id": "holI_FRPuY57",
        "colab_type": "code",
        "colab": {
          "base_uri": "https://localhost:8080/",
          "height": 238
        },
        "outputId": "3d6b6366-573e-4036-919d-251fee31e1bc"
      },
      "source": [
        "fulldata.isna().sum()"
      ],
      "execution_count": 12,
      "outputs": [
        {
          "output_type": "execute_result",
          "data": {
            "text/plain": [
              "Age             263\n",
              "Cabin          1014\n",
              "Embarked          2\n",
              "Fare              1\n",
              "Name              0\n",
              "Parch             0\n",
              "PassengerId       0\n",
              "Pclass            0\n",
              "Sex               0\n",
              "SibSp             0\n",
              "Survived        418\n",
              "Ticket            0\n",
              "dtype: int64"
            ]
          },
          "metadata": {
            "tags": []
          },
          "execution_count": 12
        }
      ]
    },
    {
      "cell_type": "code",
      "metadata": {
        "id": "JPNVfUVpumC2",
        "colab_type": "code",
        "colab": {}
      },
      "source": [
        "fulldata['Titulo']=fulldata.Name.apply(lambda x: re.search(' ([A-Za-z]+)\\.', x)[1])\n",
        "\n",
        "#fulldata['Titulo'].value_counts()\n",
        "\n",
        "fulldata['Titulo'] = fulldata['Titulo'].replace(['Lady', 'Countess','Capt', 'Col','Don', 'Dr', 'Major', 'Rev', 'Sir', 'Jonkheer', 'Dona'], '0')\n",
        "fulldata['Titulo'] = fulldata['Titulo'].replace(['Mr','Mrs','Mme'], '1')\n",
        "fulldata['Titulo'] = fulldata['Titulo'].replace(['Miss','Ms','Mlle'], '2')\n",
        "fulldata['Titulo'] = fulldata['Titulo'].replace('Master', '3')\n",
        "#fulldata.Titulo.value_counts()\n",
        "\n",
        "#fulldata.head(3)\n",
        "\n",
        "fulldata.Sex = fulldata.Sex.astype('category')\n",
        "fulldata.Sex = fulldata.Sex.cat.codes\n",
        "\n",
        "fulldata.Embarked = fulldata.Embarked.astype('category')\n",
        "fulldata.Embarked = fulldata.Embarked.cat.codes\n",
        "\n",
        "fulldata['FamilySize'] = fulldata.Parch + fulldata.SibSp +1\n",
        "\n",
        "fulldata['IsAlone'] = 0\n",
        "fulldata.loc[fulldata['FamilySize'] == 1, 'IsAlone'] = 1\n",
        "\n",
        "fulldata['CabinLetter']=fulldata.Cabin.str[0]\n",
        "fulldata.CabinLetter = fulldata.CabinLetter.astype('category')\n",
        "fulldata.CabinLetter = fulldata.CabinLetter.cat.codes\n",
        "\n",
        "fulldata.loc[fulldata.Parch.isna(),'Parch'] = -1\n",
        "fulldata.loc[fulldata.Fare.isna(),'Fare'] = -1\n",
        "\n",
        "fulldata.head(3)\n",
        "\n",
        "media = fulldata['Age'].mean()\n",
        "std = fulldata['Age'].std()\n",
        "qtdNull = fulldata['Age'].isnull().sum()\n",
        "idade = np.random.randint(media - std, media + std, size=qtdNull)\n",
        "fulldata['Age'][np.isnan(fulldata['Age'])] = idade\n",
        "fulldata['Age'] = fulldata['Age'].astype(int)"
      ],
      "execution_count": 0,
      "outputs": []
    },
    {
      "cell_type": "code",
      "metadata": {
        "id": "C021_bERuvEG",
        "colab_type": "code",
        "colab": {
          "base_uri": "https://localhost:8080/",
          "height": 289
        },
        "outputId": "48ab5c19-d7c3-42b9-c8b7-55f484959e56"
      },
      "source": [
        "drop_elements = ['PassengerId', 'Name', 'Ticket', 'Cabin', 'SibSp']\n",
        "fulldata = fulldata.drop(drop_elements, axis = 1)\n",
        "\n",
        "fulldata = fulldata.astype('float32')\n",
        "fulldata.info()"
      ],
      "execution_count": 14,
      "outputs": [
        {
          "output_type": "stream",
          "text": [
            "<class 'pandas.core.frame.DataFrame'>\n",
            "Int64Index: 1309 entries, 0 to 890\n",
            "Data columns (total 11 columns):\n",
            "Age            1309 non-null float32\n",
            "Embarked       1309 non-null float32\n",
            "Fare           1309 non-null float32\n",
            "Parch          1309 non-null float32\n",
            "Pclass         1309 non-null float32\n",
            "Sex            1309 non-null float32\n",
            "Survived       891 non-null float32\n",
            "Titulo         1309 non-null float32\n",
            "FamilySize     1309 non-null float32\n",
            "IsAlone        1309 non-null float32\n",
            "CabinLetter    1309 non-null float32\n",
            "dtypes: float32(11)\n",
            "memory usage: 66.5 KB\n"
          ],
          "name": "stdout"
        }
      ]
    },
    {
      "cell_type": "code",
      "metadata": {
        "id": "2Z-jL2UjuxDk",
        "colab_type": "code",
        "colab": {
          "base_uri": "https://localhost:8080/",
          "height": 68
        },
        "outputId": "74d35b65-6b56-46c5-b7b8-aa553fbb21c4"
      },
      "source": [
        "train = fulldata[418:]\n",
        "test = fulldata[:418]\n",
        "\n",
        "print(\"Teste: {} \\nTreino: {}\\nFull_data:{}\".format(test.shape,train.shape,fulldata.shape))"
      ],
      "execution_count": 15,
      "outputs": [
        {
          "output_type": "stream",
          "text": [
            "Teste: (418, 11) \n",
            "Treino: (891, 11)\n",
            "Full_data:(1309, 11)\n"
          ],
          "name": "stdout"
        }
      ]
    },
    {
      "cell_type": "code",
      "metadata": {
        "id": "J4HXx4aduyqA",
        "colab_type": "code",
        "colab": {
          "base_uri": "https://localhost:8080/",
          "height": 748
        },
        "outputId": "09478efe-4090-491b-9d1e-2ea7ee0815d0"
      },
      "source": [
        "colormap = plt.cm.RdBu\n",
        "plt.figure(figsize=(14,12))\n",
        "plt.title('Pearson Correlation of Features', y=1.05, size=15)\n",
        "sns.heatmap(fulldata.astype(float).corr(),linewidths=0.1,vmax=1.0, \n",
        "            square=True, cmap='YlOrRd', linecolor='white', annot=True)"
      ],
      "execution_count": 16,
      "outputs": [
        {
          "output_type": "execute_result",
          "data": {
            "text/plain": [
              "<matplotlib.axes._subplots.AxesSubplot at 0x7f8d03e41b70>"
            ]
          },
          "metadata": {
            "tags": []
          },
          "execution_count": 16
        },
        {
          "output_type": "display_data",
          "data": {
            "image/png": "[encoded data removed]",
            "text/plain": [
              "<Figure size 1008x864 with 2 Axes>"
            ]
          },
          "metadata": {
            "tags": []
          }
        }
      ]
    },
    {
      "cell_type": "code",
      "metadata": {
        "id": "voLSivSLuyiL",
        "colab_type": "code",
        "colab": {
          "base_uri": "https://localhost:8080/",
          "height": 142
        },
        "outputId": "2c61e143-8192-4433-c1f9-a7189440ce1e"
      },
      "source": [
        "test.head(3)"
      ],
      "execution_count": 22,
      "outputs": [
        {
          "output_type": "execute_result",
          "data": {
            "text/html": [
              "<div>\n",
              "<style scoped>\n",
              "    .dataframe tbody tr th:only-of-type {\n",
              "        vertical-align: middle;\n",
              "    }\n",
              "\n",
              "    .dataframe tbody tr th {\n",
              "        vertical-align: top;\n",
              "    }\n",
              "\n",
              "    .dataframe thead th {\n",
              "        text-align: right;\n",
              "    }\n",
              "</style>\n",
              "<table border=\"1\" class=\"dataframe\">\n",
              "  <thead>\n",
              "    <tr style=\"text-align: right;\">\n",
              "      <th></th>\n",
              "      <th>Age</th>\n",
              "      <th>Embarked</th>\n",
              "      <th>Fare</th>\n",
              "      <th>Parch</th>\n",
              "      <th>Pclass</th>\n",
              "      <th>Sex</th>\n",
              "      <th>Titulo</th>\n",
              "      <th>FamilySize</th>\n",
              "      <th>IsAlone</th>\n",
              "      <th>CabinLetter</th>\n",
              "    </tr>\n",
              "  </thead>\n",
              "  <tbody>\n",
              "    <tr>\n",
              "      <th>0</th>\n",
              "      <td>34.0</td>\n",
              "      <td>1.0</td>\n",
              "      <td>7.8292</td>\n",
              "      <td>0.0</td>\n",
              "      <td>3.0</td>\n",
              "      <td>1.0</td>\n",
              "      <td>1.0</td>\n",
              "      <td>1.0</td>\n",
              "      <td>1.0</td>\n",
              "      <td>-1.0</td>\n",
              "    </tr>\n",
              "    <tr>\n",
              "      <th>1</th>\n",
              "      <td>47.0</td>\n",
              "      <td>2.0</td>\n",
              "      <td>7.0000</td>\n",
              "      <td>0.0</td>\n",
              "      <td>3.0</td>\n",
              "      <td>0.0</td>\n",
              "      <td>1.0</td>\n",
              "      <td>2.0</td>\n",
              "      <td>0.0</td>\n",
              "      <td>-1.0</td>\n",
              "    </tr>\n",
              "    <tr>\n",
              "      <th>2</th>\n",
              "      <td>62.0</td>\n",
              "      <td>1.0</td>\n",
              "      <td>9.6875</td>\n",
              "      <td>0.0</td>\n",
              "      <td>2.0</td>\n",
              "      <td>1.0</td>\n",
              "      <td>1.0</td>\n",
              "      <td>1.0</td>\n",
              "      <td>1.0</td>\n",
              "      <td>-1.0</td>\n",
              "    </tr>\n",
              "  </tbody>\n",
              "</table>\n",
              "</div>"
            ],
            "text/plain": [
              "    Age  Embarked    Fare  Parch  ...  Titulo  FamilySize  IsAlone  CabinLetter\n",
              "0  34.0       1.0  7.8292    0.0  ...     1.0         1.0      1.0         -1.0\n",
              "1  47.0       2.0  7.0000    0.0  ...     1.0         2.0      0.0         -1.0\n",
              "2  62.0       1.0  9.6875    0.0  ...     1.0         1.0      1.0         -1.0\n",
              "\n",
              "[3 rows x 10 columns]"
            ]
          },
          "metadata": {
            "tags": []
          },
          "execution_count": 22
        }
      ]
    },
    {
      "cell_type": "code",
      "metadata": {
        "id": "rRE7qsdbu1At",
        "colab_type": "code",
        "colab": {}
      },
      "source": [
        "x = train.drop(['Survived'],axis =1)\n",
        "y = train['Survived']\n",
        "#test = test.drop(['Survived'],axis =1)\n",
        "\n",
        "\n",
        "X_train, X_test, y_train, y_test = train_test_split(x, y, test_size=0.25, random_state=42)"
      ],
      "execution_count": 0,
      "outputs": []
    },
    {
      "cell_type": "markdown",
      "metadata": {
        "id": "ZVi9cUbJu27x",
        "colab_type": "text"
      },
      "source": [
        "#Modelo\n"
      ]
    },
    {
      "cell_type": "markdown",
      "metadata": {
        "id": "etaHFU2ex0ms",
        "colab_type": "text"
      },
      "source": [
        "###Simple RandomForest"
      ]
    },
    {
      "cell_type": "code",
      "metadata": {
        "id": "UzaYZDcfu-od",
        "colab_type": "code",
        "colab": {
          "base_uri": "https://localhost:8080/",
          "height": 51
        },
        "outputId": "886c2377-0b07-4729-a834-62551bd3be8b"
      },
      "source": [
        "rf = RandomForestClassifier(n_estimators=100, min_samples_leaf=2, max_features=.5, random_state=42)\n",
        "\n",
        "rf.fit(X_train,y_train)\n",
        "\n",
        "predict_train = rf.predict(X_train)\n",
        "predict_test = rf.predict(X_test)\n",
        "\n",
        "print(\"Acc - Treino: \",accuracy_score(y_train, predict_train))\n",
        "print(\"Acc - Teste : \",accuracy_score(y_test, predict_test))"
      ],
      "execution_count": 27,
      "outputs": [
        {
          "output_type": "stream",
          "text": [
            "Acc - Treino:  0.9221556886227545\n",
            "Acc - Teste :  0.8251121076233184\n"
          ],
          "name": "stdout"
        }
      ]
    },
    {
      "cell_type": "markdown",
      "metadata": {
        "id": "IJYSqMZ9x8op",
        "colab_type": "text"
      },
      "source": [
        "###rfe Sample"
      ]
    },
    {
      "cell_type": "code",
      "metadata": {
        "id": "QGUfx4kVvOBD",
        "colab_type": "code",
        "colab": {
          "base_uri": "https://localhost:8080/",
          "height": 51
        },
        "outputId": "e1dd0ccb-8dff-4a6e-b7f7-0ce7a4989ffe"
      },
      "source": [
        "model = RandomForestClassifier(n_estimators=100, min_samples_leaf=2, max_features=.5, random_state=42)\n",
        "rfe = RFE(model, step=1).fit(X_train, y_train)\n",
        "\n",
        "predict_train_rfe = rfe.predict(X_train)\n",
        "predict_test_rfe = rfe.predict(X_test)\n",
        "print(\"Acc_rfe - Treino: \",accuracy_score(y_train, predict_train_rfe))\n",
        "print(\"Acc_rfe - Teste : \",accuracy_score(y_test, predict_test_rfe))"
      ],
      "execution_count": 28,
      "outputs": [
        {
          "output_type": "stream",
          "text": [
            "Acc_rfe - Treino:  0.9251497005988024\n",
            "Acc_rfe - Teste :  0.8161434977578476\n"
          ],
          "name": "stdout"
        }
      ]
    },
    {
      "cell_type": "code",
      "metadata": {
        "id": "Y7wEHI19vRS2",
        "colab_type": "code",
        "colab": {
          "base_uri": "https://localhost:8080/",
          "height": 314
        },
        "outputId": "674f1311-a164-40d9-e9ec-668929bcb17b"
      },
      "source": [
        "Importancia_variaveis = rf.feature_importances_\n",
        "ordem = np.argsort(Importancia_variaveis)[::-1]\n",
        "nomes = train.drop('Survived', axis=1).columns\n",
        "\n",
        "g = sns.barplot(y=nomes[ordem],x = Importancia_variaveis[ordem] , orient='h')\n",
        "g.set_xlabel(\"Relative importance\",fontsize=12)\n",
        "g.set_ylabel(\"Features\",fontsize=12)\n",
        "g.tick_params(labelsize=9)\n",
        "g.set_title(\"feature importance\")"
      ],
      "execution_count": 29,
      "outputs": [
        {
          "output_type": "execute_result",
          "data": {
            "text/plain": [
              "Text(0.5, 1.0, 'feature importance')"
            ]
          },
          "metadata": {
            "tags": []
          },
          "execution_count": 29
        },
        {
          "output_type": "display_data",
          "data": {
            "image/png": "[encoded data removed]",
            "text/plain": [
              "<Figure size 432x288 with 1 Axes>"
            ]
          },
          "metadata": {
            "tags": []
          }
        }
      ]
    },
    {
      "cell_type": "code",
      "metadata": {
        "id": "h3CQKXkDvUB4",
        "colab_type": "code",
        "colab": {
          "base_uri": "https://localhost:8080/",
          "height": 737
        },
        "outputId": "d39c1a7c-f646-4242-d840-d9bb1e50f39c"
      },
      "source": [
        "kfold = StratifiedKFold(n_splits=10, shuffle=True, random_state=0)\n",
        "\n",
        "random_state = 2\n",
        "classifiers = []\n",
        "classifiers.append(SVC(random_state=random_state))\n",
        "classifiers.append(DecisionTreeClassifier(random_state=random_state))\n",
        "classifiers.append(AdaBoostClassifier(DecisionTreeClassifier(random_state=random_state),random_state=random_state,learning_rate=0.1))\n",
        "classifiers.append(RandomForestClassifier(random_state=random_state))\n",
        "classifiers.append(ExtraTreesClassifier(random_state=random_state))\n",
        "classifiers.append(GradientBoostingClassifier(random_state=random_state))\n",
        "classifiers.append(MLPClassifier(random_state=random_state))\n",
        "classifiers.append(KNeighborsClassifier())\n",
        "classifiers.append(LogisticRegression(random_state = random_state))\n",
        "classifiers.append(LinearDiscriminantAnalysis())\n",
        "\n",
        "cv_results = []\n",
        "for classifier in classifiers :\n",
        "    cv_results.append(cross_val_score(classifier, X_train, y = y_train, scoring = \"accuracy\", cv = kfold, n_jobs=4,verbose = 2))\n",
        "\n",
        "cv_means = []\n",
        "cv_std = []\n",
        "for cv_result in cv_results:\n",
        "    cv_means.append(cv_result.mean())\n",
        "    cv_std.append(cv_result.std())\n",
        "\n",
        "cv_res = pd.DataFrame({\n",
        "    \"CrossValMeans\":cv_means,\n",
        "    \"CrossValerrors\": cv_std,\n",
        "    \"Algorithm\":[\"SVC\",\"DecisionTree\",\"AdaBoost\",\n",
        "                 \"RandomForest\",\"ExtraTrees\",\"GradientBoosting\",\n",
        "                 \"MultipleLayerPerceptron\",\"KNeighboors\",\n",
        "                 \"LogisticRegression\",\"LinearDiscriminantAnalysis\"]\n",
        "})\n",
        "\n",
        "g = sns.barplot(\"CrossValMeans\",\"Algorithm\",data = cv_res.sort_values(by='CrossValMeans', ascending=False), palette=\"Blues_d\",orient = \"h\",**{'xerr':cv_std})\n",
        "g.set_xlabel(\"Mean Accuracy\")\n",
        "g = g.set_title(\"Cross validation scores\")"
      ],
      "execution_count": 31,
      "outputs": [
        {
          "output_type": "stream",
          "text": [
            "[Parallel(n_jobs=4)]: Using backend LokyBackend with 4 concurrent workers.\n",
            "[Parallel(n_jobs=4)]: Done  10 out of  10 | elapsed:    4.1s finished\n",
            "[Parallel(n_jobs=4)]: Using backend LokyBackend with 4 concurrent workers.\n",
            "[Parallel(n_jobs=4)]: Done   3 out of  10 | elapsed:    0.1s remaining:    0.2s\n",
            "[Parallel(n_jobs=4)]: Done  10 out of  10 | elapsed:    0.1s finished\n",
            "[Parallel(n_jobs=4)]: Using backend LokyBackend with 4 concurrent workers.\n",
            "[Parallel(n_jobs=4)]: Done  10 out of  10 | elapsed:    0.9s finished\n",
            "[Parallel(n_jobs=4)]: Using backend LokyBackend with 4 concurrent workers.\n",
            "[Parallel(n_jobs=4)]: Done   3 out of  10 | elapsed:    0.1s remaining:    0.2s\n",
            "[Parallel(n_jobs=4)]: Done  10 out of  10 | elapsed:    0.2s finished\n",
            "[Parallel(n_jobs=4)]: Using backend LokyBackend with 4 concurrent workers.\n",
            "[Parallel(n_jobs=4)]: Done   3 out of  10 | elapsed:    0.1s remaining:    0.2s\n",
            "[Parallel(n_jobs=4)]: Done  10 out of  10 | elapsed:    0.2s finished\n",
            "[Parallel(n_jobs=4)]: Using backend LokyBackend with 4 concurrent workers.\n",
            "[Parallel(n_jobs=4)]: Done  10 out of  10 | elapsed:    0.6s finished\n",
            "[Parallel(n_jobs=4)]: Using backend LokyBackend with 4 concurrent workers.\n",
            "[Parallel(n_jobs=4)]: Done  10 out of  10 | elapsed:    3.4s finished\n",
            "[Parallel(n_jobs=4)]: Using backend LokyBackend with 4 concurrent workers.\n",
            "[Parallel(n_jobs=4)]: Done   3 out of  10 | elapsed:    0.1s remaining:    0.2s\n",
            "[Parallel(n_jobs=4)]: Done  10 out of  10 | elapsed:    0.1s finished\n",
            "[Parallel(n_jobs=4)]: Using backend LokyBackend with 4 concurrent workers.\n",
            "[Parallel(n_jobs=4)]: Done   3 out of  10 | elapsed:    0.0s remaining:    0.1s\n",
            "[Parallel(n_jobs=4)]: Done  10 out of  10 | elapsed:    0.1s finished\n",
            "[Parallel(n_jobs=4)]: Using backend LokyBackend with 4 concurrent workers.\n",
            "[Parallel(n_jobs=4)]: Done   3 out of  10 | elapsed:    0.1s remaining:    0.1s\n",
            "[Parallel(n_jobs=4)]: Done  10 out of  10 | elapsed:    0.1s finished\n"
          ],
          "name": "stderr"
        },
        {
          "output_type": "display_data",
          "data": {
            "image/png": "[encoded data removed]",
            "text/plain": [
              "<Figure size 432x288 with 1 Axes>"
            ]
          },
          "metadata": {
            "tags": []
          }
        }
      ]
    },
    {
      "cell_type": "markdown",
      "metadata": {
        "id": "_fFefpOovWka",
        "colab_type": "text"
      },
      "source": [
        "##  Decision Tree"
      ]
    },
    {
      "cell_type": "code",
      "metadata": {
        "id": "fiyzbPGfvV0H",
        "colab_type": "code",
        "colab": {
          "base_uri": "https://localhost:8080/",
          "height": 102
        },
        "outputId": "6292e023-cacd-4d52-efb7-ac5179b56247"
      },
      "source": [
        "DTC = DecisionTreeClassifier()\n",
        "\n",
        "adaDTC = AdaBoostClassifier(DTC, random_state=7)\n",
        "\n",
        "ada_param_grid = {\"base_estimator__criterion\" : [\"gini\", \"entropy\"],\n",
        "              \"base_estimator__splitter\" :   [\"best\", \"random\"],\n",
        "              \"algorithm\" : [\"SAMME\",\"SAMME.R\"],\n",
        "              \"n_estimators\" :[1,2],\n",
        "              \"learning_rate\":  [0.0001, 0.001, 0.01, 0.1, 0.2, 0.3,1.5]}\n",
        "\n",
        "gsadaDTC = GridSearchCV(adaDTC,param_grid = ada_param_grid, cv=kfold, scoring=\"accuracy\", n_jobs= 4, verbose = 1)\n",
        "\n",
        "gsadaDTC.fit(X_train,y_train)\n",
        "\n",
        "ada_best = gsadaDTC.best_estimator_\n",
        "\n",
        "gsadaDTC.best_score_"
      ],
      "execution_count": 32,
      "outputs": [
        {
          "output_type": "stream",
          "text": [
            "Fitting 10 folds for each of 112 candidates, totalling 1120 fits\n"
          ],
          "name": "stdout"
        },
        {
          "output_type": "stream",
          "text": [
            "[Parallel(n_jobs=4)]: Using backend LokyBackend with 4 concurrent workers.\n",
            "[Parallel(n_jobs=4)]: Done 888 tasks      | elapsed:    5.5s\n",
            "[Parallel(n_jobs=4)]: Done 1120 out of 1120 | elapsed:    6.9s finished\n"
          ],
          "name": "stderr"
        },
        {
          "output_type": "execute_result",
          "data": {
            "text/plain": [
              "0.7934131736526946"
            ]
          },
          "metadata": {
            "tags": []
          },
          "execution_count": 32
        }
      ]
    },
    {
      "cell_type": "markdown",
      "metadata": {
        "id": "Z58WZD69v1Mf",
        "colab_type": "text"
      },
      "source": [
        "##ExtraTrees"
      ]
    },
    {
      "cell_type": "code",
      "metadata": {
        "id": "gU_qszz5v4XG",
        "colab_type": "code",
        "colab": {}
      },
      "source": [
        "ExtC = ExtraTreesClassifier()\n",
        "\n",
        "ex_param_grid = {\"max_depth\": [None],\n",
        "              \"max_features\": [1, 3, 10],\n",
        "              \"min_samples_split\": [2, 3, 10],\n",
        "              \"min_samples_leaf\": [1, 3, 10],\n",
        "              \"bootstrap\": [False],\n",
        "              \"n_estimators\" :[100,300],\n",
        "              \"criterion\": [\"gini\"]}\n",
        "\n",
        "gsExtC = GridSearchCV(ExtC,param_grid = ex_param_grid, cv=kfold, scoring=\"accuracy\", n_jobs= 4, verbose = 1)\n",
        "\n",
        "gsExtC.fit(X_train,y_train)\n",
        "\n",
        "ExtC_best = gsExtC.best_estimator_\n",
        "\n",
        "# Best score\n",
        "gsExtC.best_score_"
      ],
      "execution_count": 0,
      "outputs": []
    },
    {
      "cell_type": "markdown",
      "metadata": {
        "id": "34oqVoXFv7uV",
        "colab_type": "text"
      },
      "source": [
        "##RandomForest"
      ]
    },
    {
      "cell_type": "code",
      "metadata": {
        "id": "bz4KcmNrwC98",
        "colab_type": "code",
        "colab": {}
      },
      "source": [
        "RFC = RandomForestClassifier()\n",
        "\n",
        "rf_param_grid = {\"max_depth\": [None],\n",
        "              \"max_features\": [1,2,3,4,.5,.3],\n",
        "              \"min_samples_split\": [6, 10,12,14],\n",
        "              \"min_samples_leaf\": [1,2,3, 10],\n",
        "              \"bootstrap\": [False],\n",
        "              \"n_estimators\" :[80,100,120,200],\n",
        "              \"criterion\": [\"gini\"]}\n",
        "\n",
        "gsRFC = GridSearchCV(RFC,param_grid = rf_param_grid, cv=kfold, scoring=\"accuracy\", n_jobs= 4, verbose = 1)\n",
        "\n",
        "gsRFC.fit(X_train,y_train)\n",
        "\n",
        "RFC_best = gsRFC.best_estimator_\n",
        "\n",
        "# Best score\n",
        "gsRFC.best_score_"
      ],
      "execution_count": 0,
      "outputs": []
    },
    {
      "cell_type": "markdown",
      "metadata": {
        "id": "oyQ0FEYKwMYo",
        "colab_type": "text"
      },
      "source": [
        "## Gradient boosting"
      ]
    },
    {
      "cell_type": "code",
      "metadata": {
        "id": "8AZoPUsTwKAN",
        "colab_type": "code",
        "colab": {}
      },
      "source": [
        "GBC = GradientBoostingClassifier()\n",
        "gb_param_grid = {'loss' : [\"deviance\"],\n",
        "              'n_estimators' : [100,200,300],\n",
        "              'learning_rate': [0.1, 0.05, 0.01],\n",
        "              'max_depth': [4, 8],\n",
        "              'min_samples_leaf': [100,150],\n",
        "              'max_features': [0.3, 0.1]\n",
        "              }\n",
        "\n",
        "gsGBC = GridSearchCV(GBC,param_grid = gb_param_grid, cv=kfold, scoring=\"accuracy\", n_jobs= -1, verbose = 1)\n",
        "\n",
        "gsGBC.fit(X_train,y_train)\n",
        "\n",
        "GBC_best = gsGBC.best_estimator_\n",
        "\n",
        "# Best score\n",
        "gsGBC.best_score_"
      ],
      "execution_count": 0,
      "outputs": []
    },
    {
      "cell_type": "markdown",
      "metadata": {
        "id": "tb7tpP9zwYvl",
        "colab_type": "text"
      },
      "source": [
        "## SVC classifier"
      ]
    },
    {
      "cell_type": "code",
      "metadata": {
        "id": "7EPh7jsowaIv",
        "colab_type": "code",
        "colab": {}
      },
      "source": [
        "SVMC = SVC(probability=True)\n",
        "svc_param_grid = {'kernel': ['rbf'], \n",
        "                  'gamma': [ 0.001, 0.01, 0.1, 1],\n",
        "                  'C': [1, 10, 50, 100,200,300, 1000]}\n",
        "\n",
        "gsSVMC = GridSearchCV(SVMC,param_grid = svc_param_grid, cv=kfold, scoring=\"accuracy\", n_jobs= 4, verbose = 1)\n",
        "\n",
        "gsSVMC.fit(X_train,y_train)\n",
        "\n",
        "\n",
        "gsSVMC\n",
        "\n",
        "SVMC_best = gsSVMC.best_estimator_\n",
        "\n",
        "# Best score\n",
        "gsSVMC.best_score_"
      ],
      "execution_count": 0,
      "outputs": []
    },
    {
      "cell_type": "code",
      "metadata": {
        "id": "lH2YQHArwe2o",
        "colab_type": "code",
        "colab": {}
      },
      "source": [
        "def plot_learning_curve(estimator, title, X, y, ylim=None, cv=None,n_jobs=-1, train_sizes=np.linspace(.1, 1.0, 10)):\n",
        "    plt.figure()\n",
        "    plt.title(title)\n",
        "    if ylim is not None:\n",
        "        plt.ylim(*ylim)\n",
        "    plt.xlabel(\"Training examples\")\n",
        "    plt.ylabel(\"Score\")\n",
        "    train_sizes, train_scores, test_scores = learning_curve(estimator, X, y, cv=cv, n_jobs=n_jobs, train_sizes=train_sizes)\n",
        "    train_scores_mean = np.mean(train_scores, axis=1)\n",
        "    train_scores_std = np.std(train_scores, axis=1)\n",
        "    test_scores_mean = np.mean(test_scores, axis=1)\n",
        "    test_scores_std = np.std(test_scores, axis=1)\n",
        "    plt.grid()\n",
        "\n",
        "    plt.fill_between(train_sizes, train_scores_mean - train_scores_std,\n",
        "                     train_scores_mean + train_scores_std, alpha=0.1,\n",
        "                     color=\"r\")\n",
        "    plt.fill_between(train_sizes, test_scores_mean - test_scores_std,\n",
        "                     test_scores_mean + test_scores_std, alpha=0.1, color=\"g\")\n",
        "    plt.plot(train_sizes, train_scores_mean, 'o-', color=\"r\",\n",
        "             label=\"Training score\")\n",
        "    plt.plot(train_sizes, test_scores_mean, 'o-', color=\"g\",\n",
        "             label=\"Cross-validation score\")\n",
        "\n",
        "    plt.legend(loc=\"best\")\n",
        "    return plt\n",
        "\n",
        "g = plot_learning_curve(gsRFC.best_estimator_,\"RF mearning curves\",X_train,y_train,cv=kfold)\n",
        "g = plot_learning_curve(gsExtC.best_estimator_,\"ExtraTrees learning curves\",X_train,y_train,cv=kfold)\n",
        "g = plot_learning_curve(gsSVMC.best_estimator_,\"SVC learning curves\",X_train,y_train,cv=kfold)\n",
        "g = plot_learning_curve(gsadaDTC.best_estimator_,\"AdaBoost learning curves\",X_train,y_train,cv=kfold)\n",
        "g = plot_learning_curve(gsGBC.best_estimator_,\"GradientBoosting learning curves\",X_train,y_train,cv=kfold)"
      ],
      "execution_count": 0,
      "outputs": []
    },
    {
      "cell_type": "code",
      "metadata": {
        "id": "Dt-Js0a9uKZ7",
        "colab_type": "code",
        "colab": {}
      },
      "source": [
        "nrows = ncols = 2\n",
        "fig, axes = plt.subplots(nrows = nrows, ncols = ncols, sharex=\"all\", figsize=(15,15))\n",
        "\n",
        "names_classifiers = [(\"AdaBoosting\", ada_best),(\"ExtraTrees\",ExtC_best),(\"RandomForest\",RFC_best),(\"GradientBoosting\",GBC_best)]\n",
        "\n",
        "nclassifier = 0\n",
        "for row in range(nrows):\n",
        "    for col in range(ncols):\n",
        "        name = names_classifiers[nclassifier][0]\n",
        "        classifier = names_classifiers[nclassifier][1]\n",
        "        indices = np.argsort(classifier.feature_importances_)[::-1][:40]\n",
        "        g = sns.barplot(y=X_train.columns[indices][:40],x = classifier.feature_importances_[indices][:40] , orient='h',ax=axes[row][col])\n",
        "        g.set_xlabel(\"Relative importance\",fontsize=12)\n",
        "        g.set_ylabel(\"Features\",fontsize=12)\n",
        "        g.tick_params(labelsize=9)\n",
        "        g.set_title(name + \" feature importance\")\n",
        "        nclassifier += 1\n",
        "\n",
        "votingC = VotingClassifier(estimators=[('rfc', RFC_best), ('extc', ExtC_best),('svc', SVMC_best), ('adac',ada_best),('gbc',GBC_best)], voting='hard', n_jobs=4)\n",
        "\n",
        "votingC = votingC.fit(X_train, y_train)\n",
        "votingC\n",
        "\n",
        "kaggle_sub = pd.read_csv(\"gender_submission.csv\")\n",
        "\n",
        "test_Survived = pd.Series(votingC.predict(test), name=\"Survived\").astype(int)\n",
        "\n",
        "results = pd.concat([kaggle_sub.PassengerId,test_Survived],axis=1)\n",
        "\n",
        "results.to_csv(\"Meu_RFC_V6.csv\",index=False)\n",
        "\n",
        "preds_train_rfc = gsRFC.predict(train.drop('Survived', axis=1))\n",
        "preds_rfc = gsRFC.predict(test)\n",
        "accuracy_score(train['Survived'], preds_train_rfc)\n",
        "\n",
        "test_Survived.astype(int)\n",
        "\n"
      ],
      "execution_count": 0,
      "outputs": []
    }
  ]
}